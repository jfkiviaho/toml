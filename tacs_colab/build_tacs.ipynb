{
  "nbformat": 4,
  "nbformat_minor": 0,
  "metadata": {
    "colab": {
      "name": "build_tacs.ipynb",
      "private_outputs": true,
      "provenance": [],
      "collapsed_sections": []
    },
    "kernelspec": {
      "name": "python3",
      "display_name": "Python 3"
    },
    "language_info": {
      "name": "python"
    },
    "accelerator": "GPU"
  },
  "cells": [
    {
      "cell_type": "markdown",
      "metadata": {
        "id": "yHFXB0PXUX7r"
      },
      "source": [
        "### Get all the basic tools needed"
      ]
    },
    {
      "cell_type": "code",
      "metadata": {
        "id": "poHmkCBTQ5AX"
      },
      "source": [
        "!sudo apt-get install gcc g++ libmpich-dev libblas-dev liblapack-dev\n",
        "!python -m pip install cython mpi4py numpy scipy\n",
        "!cd $HOME \n",
        "!mkdir git\n",
        "%cd git"
      ],
      "execution_count": null,
      "outputs": []
    },
    {
      "cell_type": "markdown",
      "metadata": {
        "id": "ukKtSYFDQdL3"
      },
      "source": [
        "### Build TACS from git repo"
      ]
    },
    {
      "cell_type": "code",
      "metadata": {
        "id": "d0m7wrnTQiao"
      },
      "source": [
        "! git clone https://github.com/smdogroup/tacs.git\n",
        "%pwd"
      ],
      "execution_count": null,
      "outputs": []
    },
    {
      "cell_type": "markdown",
      "metadata": {
        "id": "Kz0mK9gwSCbG"
      },
      "source": [
        "Download the TACS dependency"
      ]
    },
    {
      "cell_type": "code",
      "metadata": {
        "id": "XF2Ag01zSBhj"
      },
      "source": [
        "%cd tacs/extern/\n",
        "!wget https://github.com/jfkiviaho/toml/raw/master/tacs_colab/TACS_extern.tar.gz\n",
        "!tar -xvf TACS_extern.tar.gz\n",
        "!make\n",
        "%cd ../\n",
        "!wget https://raw.githubusercontent.com/jfkiviaho/toml/master/tacs_colab/Makefile.in"
      ],
      "execution_count": null,
      "outputs": []
    },
    {
      "cell_type": "markdown",
      "metadata": {
        "id": "_2V149MBSVdB"
      },
      "source": [
        "Build the main code\n"
      ]
    },
    {
      "cell_type": "code",
      "metadata": {
        "id": "TI3-M7ZKSZEj"
      },
      "source": [
        "!make clean; make\n"
      ],
      "execution_count": null,
      "outputs": []
    },
    {
      "cell_type": "markdown",
      "metadata": {
        "id": "WkMWrZMNaZ_5"
      },
      "source": [
        "### Build a C++ example"
      ]
    },
    {
      "cell_type": "code",
      "metadata": {
        "id": "bqqp54NOVxA4"
      },
      "source": [
        "%cd examples/tutorial\n",
        "!make\n",
        "! mpirun -np 2 --allow-run-as-root  ./tutorial"
      ],
      "execution_count": null,
      "outputs": []
    },
    {
      "cell_type": "markdown",
      "metadata": {
        "id": "_-RAAW69bBRB"
      },
      "source": [
        "### Build the python interface"
      ]
    },
    {
      "cell_type": "code",
      "metadata": {
        "id": "NvVaLZesazEU"
      },
      "source": [
        "%cd ../../\n",
        "!python setup.py build_ext --inplace\n",
        "!python setup.py develop --user"
      ],
      "execution_count": null,
      "outputs": []
    },
    {
      "cell_type": "markdown",
      "metadata": {
        "id": "5L0hbmqpewtt"
      },
      "source": [
        "### Try running python examples"
      ]
    },
    {
      "cell_type": "code",
      "metadata": {
        "id": "rpJ0s530e1Kv"
      },
      "source": [
        "%cd examples/triangle/"
      ],
      "execution_count": null,
      "outputs": []
    },
    {
      "cell_type": "markdown",
      "metadata": {
        "id": "-OC9mRto8Txa"
      },
      "source": [
        "### Run command needs to start with mpirun call"
      ]
    },
    {
      "cell_type": "code",
      "metadata": {
        "id": "Xuqb4aiBe4TC"
      },
      "source": [
        "!mpirun -np 2 --allow-run-as-root python3 triangle.py\n"
      ],
      "execution_count": null,
      "outputs": []
    }
  ]
}