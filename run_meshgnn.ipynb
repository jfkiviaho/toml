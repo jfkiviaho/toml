{
  "nbformat": 4,
  "nbformat_minor": 0,
  "metadata": {
    "colab": {
      "name": "run_meshgnn.ipynb",
      "private_outputs": true,
      "provenance": [],
      "collapsed_sections": [],
      "authorship_tag": "ABX9TyNd8B8MIQtuBhDJtt+60O8p",
      "include_colab_link": true
    },
    "kernelspec": {
      "name": "python3",
      "display_name": "Python 3"
    },
    "language_info": {
      "name": "python"
    },
    "accelerator": "GPU"
  },
  "cells": [
    {
      "cell_type": "markdown",
      "metadata": {
        "id": "view-in-github",
        "colab_type": "text"
      },
      "source": [
        "<a href=\"https://colab.research.google.com/github/jfkiviaho/toml/blob/master/run_meshgnn.ipynb\" target=\"_parent\"><img src=\"https://colab.research.google.com/assets/colab-badge.svg\" alt=\"Open In Colab\"/></a>"
      ]
    },
    {
      "cell_type": "markdown",
      "metadata": {
        "id": "M2DsizfreaPP"
      },
      "source": [
        "####Get the repository"
      ]
    },
    {
      "cell_type": "code",
      "metadata": {
        "id": "2b9ipBUPeCq2"
      },
      "source": [
        "!cd $HOME \n",
        "!mkdir git\n",
        "%cd git\n",
        "!git clone https://github.com/wwMark/meshgraphnets.git"
      ],
      "execution_count": null,
      "outputs": []
    },
    {
      "cell_type": "markdown",
      "metadata": {
        "id": "VgDl9pt_ygZS"
      },
      "source": [
        "#### Install torch-geometric"
      ]
    },
    {
      "cell_type": "code",
      "metadata": {
        "id": "rfpeAW6DxtAO"
      },
      "source": [
        "!python3 -m pip install torch-scatter -f https://data.pyg.org/whl/torch-1.9.0+cu111.html\n",
        "!python3 -m pip install torch-sparse -f https://data.pyg.org/whl/torch-1.9.0+cu111.html\n",
        "!python3 -m pip install torch-geometric"
      ],
      "execution_count": null,
      "outputs": []
    },
    {
      "cell_type": "code",
      "metadata": {
        "id": "0QP8jEVugl3Q"
      },
      "source": [
        "!python3 -m pip install tensorflow --upgrade\n",
        "!python3 -m pip install -r meshgraphnets/requirements.txt"
      ],
      "execution_count": null,
      "outputs": []
    },
    {
      "cell_type": "markdown",
      "metadata": {
        "id": "fjnA6KgcjVks"
      },
      "source": [
        "####Go into the root directory of the repo\n"
      ]
    },
    {
      "cell_type": "code",
      "metadata": {
        "id": "DP1VxrggiOaS"
      },
      "source": [
        "%cd meshgraphnets\n",
        "%pwd"
      ],
      "execution_count": null,
      "outputs": []
    },
    {
      "cell_type": "markdown",
      "metadata": {
        "id": "zh90tHHbzOdP"
      },
      "source": [
        "####Download the data"
      ]
    },
    {
      "cell_type": "code",
      "metadata": {
        "id": "Lxih8MHag0Wj"
      },
      "source": [
        "!mkdir -p data/flag_simple\n",
        "!bash download_dataset.sh flag_simple ./data/"
      ],
      "execution_count": null,
      "outputs": []
    },
    {
      "cell_type": "code",
      "metadata": {
        "id": "6DGR7pyM4G-I"
      },
      "source": [
        "%ls data/flag_simple"
      ],
      "execution_count": null,
      "outputs": []
    },
    {
      "cell_type": "markdown",
      "metadata": {
        "id": "r42dVNBl1bcR"
      },
      "source": [
        "#### Run the model"
      ]
    },
    {
      "cell_type": "code",
      "metadata": {
        "id": "Txs6ceTqzyJx"
      },
      "source": [
        "!python3 run_model.py"
      ],
      "execution_count": null,
      "outputs": []
    }
  ]
}